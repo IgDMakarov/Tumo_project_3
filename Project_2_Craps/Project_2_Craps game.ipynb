{
 "cells": [
  {
   "cell_type": "code",
   "execution_count": 61,
   "id": "36b9af68",
   "metadata": {},
   "outputs": [
    {
     "name": "stdout",
     "output_type": "stream",
     "text": [
      "_________________________________________________\n",
      "Round 1\n",
      "The sum of dices is: 5 - is our target goal in next rounds! \n",
      "                   We continue!\n",
      "_________________________________________________\n",
      "Round 2\n",
      "The sum of dices is: 6 - is not equal our target goal: 5\n",
      "            We continue!\n",
      "_________________________________________________\n",
      "Round 3\n",
      "The sum of dices is: 9 - is not equal our target goal: 5\n",
      "            We continue!\n",
      "_________________________________________________\n",
      "Round 4\n",
      "The sum of dices is: 7. Casino is winner! We are sorry!\n",
      "                          Finish!\n"
     ]
    }
   ],
   "source": [
    "#import of random function for using to generate random values for dice\n",
    "import random as rd\n",
    "\n",
    "#create function which will generate two random values\n",
    "def one_step():\n",
    "    x=2 #times for creating random value\n",
    "    out_value=[]\n",
    "    for z in range(x):\n",
    "        rd.seed()\n",
    "        z=rd.randint(1,6)\n",
    "        out_value.append(z)\n",
    "    return sum(out_value[:])\n",
    "\n",
    "#create function which will game\n",
    "def craps():\n",
    "    #enter for first round\n",
    "    y=1\n",
    "    while True:\n",
    "        x=one_step()\n",
    "        print(\"_________________________________________________\")\n",
    "        print(\"Round \"+str(y))\n",
    "        #first round\n",
    "        if y==1 and x in (7,11):\n",
    "            result=(f\"The sum of dices is: {str(x)}. You are winner!\")\n",
    "            break\n",
    "        elif y==1 and x in (2,3,12):\n",
    "            result=(f\"The sum of dices is: {str(x)}. Casino is winner! We are sorry!\")\n",
    "            break\n",
    "        elif y==1 and x in (4,5,6,8,9,10): #enter for next rounds\n",
    "            print (f\"\"\"The sum of dices is: {str(x)} - is our target goal in next rounds! \n",
    "                   We continue!\"\"\")\n",
    "            goal=x\n",
    "            y+=1\n",
    "            continue\n",
    "        #next rounds\n",
    "        elif y>1 and x==7:\n",
    "            result=(f\"\"\"The sum of dices is: {str(x)}. Casino is winner! We are sorry!\n",
    "                          Finish!\"\"\")\n",
    "            break\n",
    "        elif y>1 and x!=goal:\n",
    "            print (f\"\"\"The sum of dices is: {str(x)} - is not equal our target goal: {str(goal)}\n",
    "            We continue!\"\"\")\n",
    "            y+=1\n",
    "            continue\n",
    "        \n",
    "        else:\n",
    "            result=(f\"\"\"The sum of dices is: {str(x)} - is equal our target goal: {str(goal)}. You are winner!\n",
    "            Finish!\n",
    "            \"\"\")\n",
    "            break\n",
    "    return print(result)\n",
    "#requesting our game function\n",
    "craps()"
   ]
  },
  {
   "cell_type": "code",
   "execution_count": null,
   "id": "d98e5a78",
   "metadata": {},
   "outputs": [],
   "source": []
  }
 ],
 "metadata": {
  "kernelspec": {
   "display_name": "Python 3 (ipykernel)",
   "language": "python",
   "name": "python3"
  },
  "language_info": {
   "codemirror_mode": {
    "name": "ipython",
    "version": 3
   },
   "file_extension": ".py",
   "mimetype": "text/x-python",
   "name": "python",
   "nbconvert_exporter": "python",
   "pygments_lexer": "ipython3",
   "version": "3.9.7"
  }
 },
 "nbformat": 4,
 "nbformat_minor": 5
}
